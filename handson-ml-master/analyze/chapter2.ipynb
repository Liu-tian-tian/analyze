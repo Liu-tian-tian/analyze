{
 "cells": [
  {
   "cell_type": "code",
   "execution_count": 115,
   "metadata": {},
   "outputs": [],
   "source": [
    "from IPython.core.interactiveshell import InteractiveShell\n",
    "InteractiveShell.ast_node_interactivity = \"all\"\n",
    "\n",
    "import pandas as pd\n",
    "import os\n",
    "import numpy as np\n",
    "import seaborn as sns\n",
    "\n",
    "def load_housing_data(housing_path = '../datasets/housing/'):\n",
    "    csv_path = os.path.join(housing_path, \"housing.csv\")\n",
    "    return pd.read_csv(csv_path)"
   ]
  },
  {
   "cell_type": "code",
   "execution_count": 53,
   "metadata": {},
   "outputs": [
    {
     "data": {
      "text/html": [
       "<div>\n",
       "<style scoped>\n",
       "    .dataframe tbody tr th:only-of-type {\n",
       "        vertical-align: middle;\n",
       "    }\n",
       "\n",
       "    .dataframe tbody tr th {\n",
       "        vertical-align: top;\n",
       "    }\n",
       "\n",
       "    .dataframe thead th {\n",
       "        text-align: right;\n",
       "    }\n",
       "</style>\n",
       "<table border=\"1\" class=\"dataframe\">\n",
       "  <thead>\n",
       "    <tr style=\"text-align: right;\">\n",
       "      <th></th>\n",
       "      <th>longitude</th>\n",
       "      <th>latitude</th>\n",
       "      <th>housing_median_age</th>\n",
       "      <th>total_rooms</th>\n",
       "      <th>total_bedrooms</th>\n",
       "      <th>population</th>\n",
       "      <th>households</th>\n",
       "      <th>median_income</th>\n",
       "      <th>median_house_value</th>\n",
       "      <th>ocean_proximity</th>\n",
       "    </tr>\n",
       "  </thead>\n",
       "  <tbody>\n",
       "    <tr>\n",
       "      <th>0</th>\n",
       "      <td>-122.23</td>\n",
       "      <td>37.88</td>\n",
       "      <td>41.0</td>\n",
       "      <td>880.0</td>\n",
       "      <td>129.0</td>\n",
       "      <td>322.0</td>\n",
       "      <td>126.0</td>\n",
       "      <td>8.3252</td>\n",
       "      <td>452600.0</td>\n",
       "      <td>NEAR BAY</td>\n",
       "    </tr>\n",
       "    <tr>\n",
       "      <th>1</th>\n",
       "      <td>-122.22</td>\n",
       "      <td>37.86</td>\n",
       "      <td>21.0</td>\n",
       "      <td>7099.0</td>\n",
       "      <td>1106.0</td>\n",
       "      <td>2401.0</td>\n",
       "      <td>1138.0</td>\n",
       "      <td>8.3014</td>\n",
       "      <td>358500.0</td>\n",
       "      <td>NEAR BAY</td>\n",
       "    </tr>\n",
       "    <tr>\n",
       "      <th>2</th>\n",
       "      <td>-122.24</td>\n",
       "      <td>37.85</td>\n",
       "      <td>52.0</td>\n",
       "      <td>1467.0</td>\n",
       "      <td>190.0</td>\n",
       "      <td>496.0</td>\n",
       "      <td>177.0</td>\n",
       "      <td>7.2574</td>\n",
       "      <td>352100.0</td>\n",
       "      <td>NEAR BAY</td>\n",
       "    </tr>\n",
       "    <tr>\n",
       "      <th>3</th>\n",
       "      <td>-122.25</td>\n",
       "      <td>37.85</td>\n",
       "      <td>52.0</td>\n",
       "      <td>1274.0</td>\n",
       "      <td>235.0</td>\n",
       "      <td>558.0</td>\n",
       "      <td>219.0</td>\n",
       "      <td>5.6431</td>\n",
       "      <td>341300.0</td>\n",
       "      <td>NEAR BAY</td>\n",
       "    </tr>\n",
       "    <tr>\n",
       "      <th>4</th>\n",
       "      <td>-122.25</td>\n",
       "      <td>37.85</td>\n",
       "      <td>52.0</td>\n",
       "      <td>1627.0</td>\n",
       "      <td>280.0</td>\n",
       "      <td>565.0</td>\n",
       "      <td>259.0</td>\n",
       "      <td>3.8462</td>\n",
       "      <td>342200.0</td>\n",
       "      <td>NEAR BAY</td>\n",
       "    </tr>\n",
       "  </tbody>\n",
       "</table>\n",
       "</div>"
      ],
      "text/plain": [
       "   longitude  latitude  housing_median_age  total_rooms  total_bedrooms  \\\n",
       "0    -122.23     37.88                41.0        880.0           129.0   \n",
       "1    -122.22     37.86                21.0       7099.0          1106.0   \n",
       "2    -122.24     37.85                52.0       1467.0           190.0   \n",
       "3    -122.25     37.85                52.0       1274.0           235.0   \n",
       "4    -122.25     37.85                52.0       1627.0           280.0   \n",
       "\n",
       "   population  households  median_income  median_house_value ocean_proximity  \n",
       "0       322.0       126.0         8.3252            452600.0        NEAR BAY  \n",
       "1      2401.0      1138.0         8.3014            358500.0        NEAR BAY  \n",
       "2       496.0       177.0         7.2574            352100.0        NEAR BAY  \n",
       "3       558.0       219.0         5.6431            341300.0        NEAR BAY  \n",
       "4       565.0       259.0         3.8462            342200.0        NEAR BAY  "
      ]
     },
     "execution_count": 53,
     "metadata": {},
     "output_type": "execute_result"
    }
   ],
   "source": [
    "housing = load_housing_data()\n",
    "housing.head()"
   ]
  },
  {
   "cell_type": "code",
   "execution_count": 54,
   "metadata": {},
   "outputs": [],
   "source": [
    "from sklearn.model_selection import train_test_split\n",
    "import seaborn as sns\n",
    "\n",
    "train_set, test_set = train_test_split(housing, test_size = 0.2, random_state = 42)"
   ]
  },
  {
   "cell_type": "code",
   "execution_count": 55,
   "metadata": {},
   "outputs": [],
   "source": [
    "housing[\"income_cat\"] = pd.cut(housing[\"median_income\"],\n",
    "                               bins=[0., 1.5, 3.0, 4.5, 6., np.inf],\n",
    "                               labels = [1, 2, 3, 4, 5]\n",
    "                              )"
   ]
  },
  {
   "cell_type": "code",
   "execution_count": 56,
   "metadata": {},
   "outputs": [
    {
     "name": "stdout",
     "output_type": "stream",
     "text": [
      "3    0.350581\n",
      "2    0.318847\n",
      "4    0.176308\n",
      "5    0.114438\n",
      "1    0.039826\n",
      "Name: income_cat, dtype: float64\n"
     ]
    },
    {
     "data": {
      "text/plain": [
       "<AxesSubplot:xlabel='income_cat', ylabel='count'>"
      ]
     },
     "execution_count": 56,
     "metadata": {},
     "output_type": "execute_result"
    },
    {
     "data": {
      "image/png": "[encoded data removed]",
      "text/plain": [
       "<Figure size 432x288 with 1 Axes>"
      ]
     },
     "metadata": {
      "needs_background": "light"
     },
     "output_type": "display_data"
    }
   ],
   "source": [
    "print(housing[\"income_cat\"].value_counts() / len(housing[\"income_cat\"]))\n",
    "\n",
    "sns.countplot(x=\"income_cat\", data=housing)"
   ]
  },
  {
   "cell_type": "code",
   "execution_count": 57,
   "metadata": {},
   "outputs": [
    {
     "name": "stdout",
     "output_type": "stream",
     "text": [
      "\n",
      "Random split train dataset, distribution: (%)\n",
      "1     3.972868\n",
      "2    31.746609\n",
      "3    34.859496\n",
      "4    17.853682\n",
      "5    11.567345\n",
      "Name: income_cat, dtype: float64\n",
      "\n",
      "Startify split train dataset, distribution: (%)\n",
      "1     3.984981\n",
      "2    31.885901\n",
      "3    35.059351\n",
      "4    17.629603\n",
      "5    11.440165\n",
      "Name: income_cat, dtype: float64\n",
      "1     3.982558\n",
      "2    31.884690\n",
      "3    35.058140\n",
      "4    17.630814\n",
      "5    11.443798\n",
      "Name: income_cat, dtype: float64\n"
     ]
    }
   ],
   "source": [
    "#随机的\n",
    "train_set, test_set = train_test_split(housing, test_size = 0.2, random_state=42)\n",
    "train_set_income_count = train_set['income_cat'].value_counts().sort_index()\n",
    "print('\\nRandom split train dataset, distribution: (%)')\n",
    "print(train_set_income_count/len(train_set)*100)\n",
    "\n",
    "#分层的\n",
    "train_set, test_set = train_test_split(housing, \n",
    "                     stratify=housing['income_cat'], test_size = 0.2, random_state=42)\n",
    "train_set_income_count = train_set['income_cat'].value_counts().sort_index()\n",
    "print('\\nStartify split train dataset, distribution: (%)')\n",
    "print(train_set_income_count/len(train_set)*100)\n",
    "\n",
    "#整体的\n",
    "print(housing[\"income_cat\"].value_counts().sort_index() / len(housing[\"income_cat\"]) * 100)"
   ]
  },
  {
   "cell_type": "code",
   "execution_count": 58,
   "metadata": {},
   "outputs": [
    {
     "data": {
      "text/plain": [
       "median_house_value    1.000000\n",
       "median_income         0.688075\n",
       "total_rooms           0.134153\n",
       "housing_median_age    0.105623\n",
       "households            0.065843\n",
       "total_bedrooms        0.049686\n",
       "population           -0.024650\n",
       "longitude            -0.045967\n",
       "latitude             -0.144160\n",
       "Name: median_house_value, dtype: float64"
      ]
     },
     "execution_count": 58,
     "metadata": {},
     "output_type": "execute_result"
    }
   ],
   "source": [
    "corr_martix = housing.corr()\n",
    "corr_martix['median_house_value'].sort_values(ascending = False)"
   ]
  },
  {
   "cell_type": "code",
   "execution_count": 59,
   "metadata": {},
   "outputs": [
    {
     "data": {
      "text/plain": [
       "median_house_value          1.000000\n",
       "median_income               0.688075\n",
       "rooms_per_household         0.151948\n",
       "total_rooms                 0.134153\n",
       "housing_median_age          0.105623\n",
       "households                  0.065843\n",
       "total_bedrooms              0.049686\n",
       "population_per_household   -0.023737\n",
       "population                 -0.024650\n",
       "longitude                  -0.045967\n",
       "latitude                   -0.144160\n",
       "bedrooms_per_room          -0.255880\n",
       "Name: median_house_value, dtype: float64"
      ]
     },
     "execution_count": 59,
     "metadata": {},
     "output_type": "execute_result"
    }
   ],
   "source": [
    "housing[\"rooms_per_household\"] = housing[\"total_rooms\"]/housing[\"households\"]\n",
    "housing[\"bedrooms_per_room\"] = housing[\"total_bedrooms\"]/housing[\"total_rooms\"]\n",
    "housing[\"population_per_household\"]=housing[\"population\"]/housing[\"households\"]\n",
    "\n",
    "corr_matrix = housing.corr()\n",
    "corr_matrix[\"median_house_value\"].sort_values(ascending=False)"
   ]
  },
  {
   "cell_type": "code",
   "execution_count": 60,
   "metadata": {},
   "outputs": [],
   "source": [
    "strat_train_set, strat_test_set = train_test_split(housing, \n",
    "                     stratify=housing['income_cat'], test_size = 0.2, random_state=42)\n",
    "\n",
    "housing = strat_train_set.drop(\"median_house_value\", axis=1) # drop labels for training set\n",
    "housing_labels = strat_train_set[\"median_house_value\"].copy()"
   ]
  },
  {
   "cell_type": "code",
   "execution_count": 61,
   "metadata": {},
   "outputs": [
    {
     "data": {
      "text/plain": [
       "SimpleImputer(strategy='median')"
      ]
     },
     "execution_count": 61,
     "metadata": {},
     "output_type": "execute_result"
    },
    {
     "data": {
      "text/plain": [
       "array([-1.18510000e+02,  3.42600000e+01,  2.90000000e+01,  2.11950000e+03,\n",
       "        4.33000000e+02,  1.16400000e+03,  4.08000000e+02,  3.54090000e+00,\n",
       "        3.00000000e+00,  5.23228423e+00,  2.03031374e-01,  2.81765270e+00])"
      ]
     },
     "execution_count": 61,
     "metadata": {},
     "output_type": "execute_result"
    }
   ],
   "source": [
    "try:\n",
    "    from sklearn.impute import SimpleImputer # Scikit-Learn 0.20+\n",
    "except ImportError:\n",
    "    from sklearn.preprocessing import Imputer as SimpleImputer\n",
    "\n",
    "imputer = SimpleImputer(strategy=\"median\")\n",
    "housing_num = housing.drop('ocean_proximity', axis=1)\n",
    "imputer.fit(housing_num)\n",
    "imputer.statistics_"
   ]
  },
  {
   "cell_type": "code",
   "execution_count": 62,
   "metadata": {},
   "outputs": [],
   "source": [
    "X = imputer.transform(housing_num)"
   ]
  },
  {
   "cell_type": "code",
   "execution_count": 63,
   "metadata": {},
   "outputs": [
    {
     "data": {
      "text/plain": [
       "ocean_proximity\n",
       "<1H OCEAN          7276\n",
       "INLAND             5263\n",
       "NEAR OCEAN         2124\n",
       "NEAR BAY           1847\n",
       "ISLAND                2\n",
       "dtype: int64"
      ]
     },
     "execution_count": 63,
     "metadata": {},
     "output_type": "execute_result"
    },
    {
     "data": {
      "text/plain": [
       "array([0, 0, 4, ..., 1, 0, 3])"
      ]
     },
     "execution_count": 63,
     "metadata": {},
     "output_type": "execute_result"
    }
   ],
   "source": [
    "housing[['ocean_proximity']].value_counts()\n",
    "\n",
    "from sklearn.preprocessing import OneHotEncoder  \n",
    "encoder = LabelEncoder()\n",
    "housing_cat_1hot = housing['ocean_proximity']\n",
    "housing_cat_encode = encoder.fit_transform(housing_cat)\n",
    "housing_cat_encode"
   ]
  },
  {
   "cell_type": "code",
   "execution_count": 66,
   "metadata": {},
   "outputs": [
    {
     "data": {
      "text/plain": [
       "<16512x5 sparse matrix of type '<class 'numpy.float64'>'\n",
       "\twith 16512 stored elements in Compressed Sparse Row format>"
      ]
     },
     "execution_count": 66,
     "metadata": {},
     "output_type": "execute_result"
    }
   ],
   "source": [
    "from sklearn.preprocessing import OneHotEncoder  \n",
    "encoder = OneHotEncoder()\n",
    "housing_cat = housing['ocean_proximity']\n",
    "housing_cat_encode = encoder.fit_transform(housing_cat_encode.reshape(-1, 1))\n",
    "housing_cat_encode"
   ]
  },
  {
   "cell_type": "code",
   "execution_count": 69,
   "metadata": {},
   "outputs": [
    {
     "data": {
      "text/plain": [
       "<16512x5 sparse matrix of type '<class 'numpy.int64'>'\n",
       "\twith 16512 stored elements in Compressed Sparse Row format>"
      ]
     },
     "execution_count": 69,
     "metadata": {},
     "output_type": "execute_result"
    }
   ],
   "source": [
    "from sklearn.preprocessing import LabelBinarizer  \n",
    "encoder = LabelBinarizer( sparse_output = True)\n",
    "housing_cat_1hot = encoder.fit_transform(housing['ocean_proximity'])\n",
    "housing_cat_1hot"
   ]
  },
  {
   "cell_type": "code",
   "execution_count": 70,
   "metadata": {},
   "outputs": [],
   "source": [
    "rooms_ix, bedrooms_ix, population_ix, household_ix = [\n",
    "    list(housing.columns).index(col)\n",
    "    for col in (\"total_rooms\", \"total_bedrooms\", \"population\", \"households\")]"
   ]
  },
  {
   "cell_type": "code",
   "execution_count": 71,
   "metadata": {},
   "outputs": [],
   "source": [
    "from sklearn.preprocessing import FunctionTransformer\n",
    "\n",
    "def add_extra_features(X, add_bedrooms_per_room=True):\n",
    "    rooms_per_household = X[:, rooms_ix] / X[:, household_ix]\n",
    "    population_per_household = X[:, population_ix] / X[:, household_ix]\n",
    "    if add_bedrooms_per_room:\n",
    "        bedrooms_per_room = X[:, bedrooms_ix] / X[:, rooms_ix]\n",
    "        return np.c_[X, rooms_per_household, population_per_household,\n",
    "                     bedrooms_per_room]\n",
    "    else:\n",
    "        return np.c_[X, rooms_per_household, population_per_household]\n",
    "\n",
    "attr_adder = FunctionTransformer(add_extra_features, validate=False,\n",
    "                                 kw_args={\"add_bedrooms_per_room\": False})\n",
    "housing_extra_attribs = attr_adder.fit_transform(housing.values)"
   ]
  },
  {
   "cell_type": "code",
   "execution_count": 72,
   "metadata": {},
   "outputs": [
    {
     "data": {
      "text/html": [
       "<div>\n",
       "<style scoped>\n",
       "    .dataframe tbody tr th:only-of-type {\n",
       "        vertical-align: middle;\n",
       "    }\n",
       "\n",
       "    .dataframe tbody tr th {\n",
       "        vertical-align: top;\n",
       "    }\n",
       "\n",
       "    .dataframe thead th {\n",
       "        text-align: right;\n",
       "    }\n",
       "</style>\n",
       "<table border=\"1\" class=\"dataframe\">\n",
       "  <thead>\n",
       "    <tr style=\"text-align: right;\">\n",
       "      <th></th>\n",
       "      <th>longitude</th>\n",
       "      <th>latitude</th>\n",
       "      <th>housing_median_age</th>\n",
       "      <th>total_rooms</th>\n",
       "      <th>total_bedrooms</th>\n",
       "      <th>population</th>\n",
       "      <th>households</th>\n",
       "      <th>median_income</th>\n",
       "      <th>ocean_proximity</th>\n",
       "      <th>income_cat</th>\n",
       "      <th>rooms_per_household</th>\n",
       "      <th>bedrooms_per_room</th>\n",
       "      <th>population_per_household</th>\n",
       "      <th>rooms_per_household</th>\n",
       "      <th>population_per_household</th>\n",
       "    </tr>\n",
       "  </thead>\n",
       "  <tbody>\n",
       "    <tr>\n",
       "      <th>17606</th>\n",
       "      <td>-121.89</td>\n",
       "      <td>37.29</td>\n",
       "      <td>38</td>\n",
       "      <td>1568</td>\n",
       "      <td>351</td>\n",
       "      <td>710</td>\n",
       "      <td>339</td>\n",
       "      <td>2.7042</td>\n",
       "      <td>&lt;1H OCEAN</td>\n",
       "      <td>2</td>\n",
       "      <td>4.62537</td>\n",
       "      <td>0.223852</td>\n",
       "      <td>2.0944</td>\n",
       "      <td>4.62537</td>\n",
       "      <td>2.0944</td>\n",
       "    </tr>\n",
       "    <tr>\n",
       "      <th>18632</th>\n",
       "      <td>-121.93</td>\n",
       "      <td>37.05</td>\n",
       "      <td>14</td>\n",
       "      <td>679</td>\n",
       "      <td>108</td>\n",
       "      <td>306</td>\n",
       "      <td>113</td>\n",
       "      <td>6.4214</td>\n",
       "      <td>&lt;1H OCEAN</td>\n",
       "      <td>5</td>\n",
       "      <td>6.00885</td>\n",
       "      <td>0.159057</td>\n",
       "      <td>2.70796</td>\n",
       "      <td>6.00885</td>\n",
       "      <td>2.70796</td>\n",
       "    </tr>\n",
       "    <tr>\n",
       "      <th>14650</th>\n",
       "      <td>-117.2</td>\n",
       "      <td>32.77</td>\n",
       "      <td>31</td>\n",
       "      <td>1952</td>\n",
       "      <td>471</td>\n",
       "      <td>936</td>\n",
       "      <td>462</td>\n",
       "      <td>2.8621</td>\n",
       "      <td>NEAR OCEAN</td>\n",
       "      <td>2</td>\n",
       "      <td>4.22511</td>\n",
       "      <td>0.241291</td>\n",
       "      <td>2.02597</td>\n",
       "      <td>4.22511</td>\n",
       "      <td>2.02597</td>\n",
       "    </tr>\n",
       "    <tr>\n",
       "      <th>3230</th>\n",
       "      <td>-119.61</td>\n",
       "      <td>36.31</td>\n",
       "      <td>25</td>\n",
       "      <td>1847</td>\n",
       "      <td>371</td>\n",
       "      <td>1460</td>\n",
       "      <td>353</td>\n",
       "      <td>1.8839</td>\n",
       "      <td>INLAND</td>\n",
       "      <td>2</td>\n",
       "      <td>5.23229</td>\n",
       "      <td>0.200866</td>\n",
       "      <td>4.13598</td>\n",
       "      <td>5.23229</td>\n",
       "      <td>4.13598</td>\n",
       "    </tr>\n",
       "    <tr>\n",
       "      <th>3555</th>\n",
       "      <td>-118.59</td>\n",
       "      <td>34.23</td>\n",
       "      <td>17</td>\n",
       "      <td>6592</td>\n",
       "      <td>1525</td>\n",
       "      <td>4459</td>\n",
       "      <td>1463</td>\n",
       "      <td>3.0347</td>\n",
       "      <td>&lt;1H OCEAN</td>\n",
       "      <td>3</td>\n",
       "      <td>4.50581</td>\n",
       "      <td>0.231341</td>\n",
       "      <td>3.04785</td>\n",
       "      <td>4.50581</td>\n",
       "      <td>3.04785</td>\n",
       "    </tr>\n",
       "  </tbody>\n",
       "</table>\n",
       "</div>"
      ],
      "text/plain": [
       "      longitude latitude housing_median_age total_rooms total_bedrooms  \\\n",
       "17606   -121.89    37.29                 38        1568            351   \n",
       "18632   -121.93    37.05                 14         679            108   \n",
       "14650    -117.2    32.77                 31        1952            471   \n",
       "3230    -119.61    36.31                 25        1847            371   \n",
       "3555    -118.59    34.23                 17        6592           1525   \n",
       "\n",
       "      population households median_income ocean_proximity income_cat  \\\n",
       "17606        710        339        2.7042       <1H OCEAN          2   \n",
       "18632        306        113        6.4214       <1H OCEAN          5   \n",
       "14650        936        462        2.8621      NEAR OCEAN          2   \n",
       "3230        1460        353        1.8839          INLAND          2   \n",
       "3555        4459       1463        3.0347       <1H OCEAN          3   \n",
       "\n",
       "      rooms_per_household bedrooms_per_room population_per_household  \\\n",
       "17606             4.62537          0.223852                   2.0944   \n",
       "18632             6.00885          0.159057                  2.70796   \n",
       "14650             4.22511          0.241291                  2.02597   \n",
       "3230              5.23229          0.200866                  4.13598   \n",
       "3555              4.50581          0.231341                  3.04785   \n",
       "\n",
       "      rooms_per_household population_per_household  \n",
       "17606             4.62537                   2.0944  \n",
       "18632             6.00885                  2.70796  \n",
       "14650             4.22511                  2.02597  \n",
       "3230              5.23229                  4.13598  \n",
       "3555              4.50581                  3.04785  "
      ]
     },
     "execution_count": 72,
     "metadata": {},
     "output_type": "execute_result"
    }
   ],
   "source": [
    "housing_extra_attribs = pd.DataFrame(\n",
    "    housing_extra_attribs,\n",
    "    columns=list(housing.columns)+[\"rooms_per_household\", \"population_per_household\"],\n",
    "    index=housing.index)\n",
    "housing_extra_attribs.head()"
   ]
  },
  {
   "cell_type": "code",
   "execution_count": 73,
   "metadata": {},
   "outputs": [],
   "source": [
    "from sklearn.pipeline import Pipeline\n",
    "from sklearn.preprocessing import StandardScaler\n",
    "\n",
    "num_pipeline = Pipeline([\n",
    "        ('imputer', SimpleImputer(strategy=\"median\")),\n",
    "        ('attribs_adder', FunctionTransformer(add_extra_features, validate=False)),\n",
    "        ('std_scaler', StandardScaler()),\n",
    "    ])\n",
    "\n",
    "housing_num_tr = num_pipeline.fit_transform(housing_num)"
   ]
  },
  {
   "cell_type": "code",
   "execution_count": 74,
   "metadata": {},
   "outputs": [],
   "source": [
    "try:\n",
    "    from sklearn.compose import ColumnTransformer\n",
    "except ImportError:\n",
    "    from future_encoders import ColumnTransformer # Scikit-Learn < 0.20"
   ]
  },
  {
   "cell_type": "code",
   "execution_count": 75,
   "metadata": {},
   "outputs": [],
   "source": [
    "num_attribs = list(housing_num)\n",
    "cat_attribs = [\"ocean_proximity\"]\n",
    "\n",
    "full_pipeline = ColumnTransformer([\n",
    "        (\"num\", num_pipeline, num_attribs),\n",
    "        (\"cat\", OneHotEncoder(), cat_attribs),\n",
    "    ])\n",
    "\n",
    "housing_prepared = full_pipeline.fit_transform(housing)"
   ]
  },
  {
   "cell_type": "code",
   "execution_count": 76,
   "metadata": {},
   "outputs": [
    {
     "data": {
      "text/plain": [
       "array([[-1.15604281,  0.77194962,  0.74333089, ...,  0.        ,\n",
       "         0.        ,  0.        ],\n",
       "       [-1.17602483,  0.6596948 , -1.1653172 , ...,  0.        ,\n",
       "         0.        ,  0.        ],\n",
       "       [ 1.18684903, -1.34218285,  0.18664186, ...,  0.        ,\n",
       "         0.        ,  1.        ],\n",
       "       ...,\n",
       "       [ 1.58648943, -0.72478134, -1.56295222, ...,  0.        ,\n",
       "         0.        ,  0.        ],\n",
       "       [ 0.78221312, -0.85106801,  0.18664186, ...,  0.        ,\n",
       "         0.        ,  0.        ],\n",
       "       [-1.43579109,  0.99645926,  1.85670895, ...,  0.        ,\n",
       "         1.        ,  0.        ]])"
      ]
     },
     "execution_count": 76,
     "metadata": {},
     "output_type": "execute_result"
    }
   ],
   "source": [
    "housing_prepared"
   ]
  },
  {
   "cell_type": "code",
   "execution_count": 78,
   "metadata": {},
   "outputs": [],
   "source": [
    "from sklearn.base import BaseEstimator, TransformerMixin\n",
    "\n",
    "# Create a class to select numerical or categorical columns \n",
    "class OldDataFrameSelector(BaseEstimator, TransformerMixin):\n",
    "    def __init__(self, attribute_names):\n",
    "        self.attribute_names = attribute_names\n",
    "    def fit(self, X, y=None):\n",
    "        return self\n",
    "    def transform(self, X):\n",
    "        return X[self.attribute_names].values"
   ]
  },
  {
   "cell_type": "code",
   "execution_count": 79,
   "metadata": {},
   "outputs": [],
   "source": [
    "num_attribs = list(housing_num)\n",
    "cat_attribs = [\"ocean_proximity\"]\n",
    "\n",
    "old_num_pipeline = Pipeline([\n",
    "        ('selector', OldDataFrameSelector(num_attribs)),\n",
    "        ('imputer', SimpleImputer(strategy=\"median\")),\n",
    "        ('attribs_adder', FunctionTransformer(add_extra_features, validate=False)),\n",
    "        ('std_scaler', StandardScaler()),\n",
    "    ])\n",
    "\n",
    "old_cat_pipeline = Pipeline([\n",
    "        ('selector', OldDataFrameSelector(cat_attribs)),\n",
    "        ('cat_encoder', OneHotEncoder(sparse=False)),\n",
    "    ])"
   ]
  },
  {
   "cell_type": "code",
   "execution_count": 80,
   "metadata": {},
   "outputs": [],
   "source": [
    "from sklearn.pipeline import FeatureUnion\n",
    "\n",
    "old_full_pipeline = FeatureUnion(transformer_list=[\n",
    "        (\"num_pipeline\", old_num_pipeline),\n",
    "        (\"cat_pipeline\", old_cat_pipeline),\n",
    "    ])"
   ]
  },
  {
   "cell_type": "code",
   "execution_count": 81,
   "metadata": {},
   "outputs": [
    {
     "data": {
      "text/plain": [
       "array([[-1.15604281,  0.77194962,  0.74333089, ...,  0.        ,\n",
       "         0.        ,  0.        ],\n",
       "       [-1.17602483,  0.6596948 , -1.1653172 , ...,  0.        ,\n",
       "         0.        ,  0.        ],\n",
       "       [ 1.18684903, -1.34218285,  0.18664186, ...,  0.        ,\n",
       "         0.        ,  1.        ],\n",
       "       ...,\n",
       "       [ 1.58648943, -0.72478134, -1.56295222, ...,  0.        ,\n",
       "         0.        ,  0.        ],\n",
       "       [ 0.78221312, -0.85106801,  0.18664186, ...,  0.        ,\n",
       "         0.        ,  0.        ],\n",
       "       [-1.43579109,  0.99645926,  1.85670895, ...,  0.        ,\n",
       "         1.        ,  0.        ]])"
      ]
     },
     "execution_count": 81,
     "metadata": {},
     "output_type": "execute_result"
    }
   ],
   "source": [
    "old_housing_prepared = old_full_pipeline.fit_transform(housing)\n",
    "old_housing_prepared"
   ]
  },
  {
   "cell_type": "code",
   "execution_count": 82,
   "metadata": {},
   "outputs": [
    {
     "data": {
      "text/plain": [
       "True"
      ]
     },
     "execution_count": 82,
     "metadata": {},
     "output_type": "execute_result"
    }
   ],
   "source": [
    "np.allclose(housing_prepared, old_housing_prepared)"
   ]
  },
  {
   "cell_type": "code",
   "execution_count": 83,
   "metadata": {},
   "outputs": [
    {
     "data": {
      "text/plain": [
       "LinearRegression()"
      ]
     },
     "execution_count": 83,
     "metadata": {},
     "output_type": "execute_result"
    }
   ],
   "source": [
    "from sklearn.linear_model import LinearRegression\n",
    "\n",
    "lin_reg = LinearRegression()\n",
    "lin_reg.fit(housing_prepared, housing_labels)"
   ]
  },
  {
   "cell_type": "code",
   "execution_count": 85,
   "metadata": {},
   "outputs": [
    {
     "data": {
      "text/plain": [
       "67784.32202861732"
      ]
     },
     "execution_count": 85,
     "metadata": {},
     "output_type": "execute_result"
    }
   ],
   "source": [
    "from sklearn.metrics import mean_squared_error\n",
    "\n",
    "housing_predictions = lin_reg.predict(housing_prepared)\n",
    "lin_mse = mean_squared_error(housing_labels, housing_predictions)\n",
    "lin_rmse = np.sqrt(lin_mse)\n",
    "lin_rmse"
   ]
  },
  {
   "cell_type": "code",
   "execution_count": 86,
   "metadata": {},
   "outputs": [
    {
     "data": {
      "text/plain": [
       "49145.9385616408"
      ]
     },
     "execution_count": 86,
     "metadata": {},
     "output_type": "execute_result"
    }
   ],
   "source": [
    "from sklearn.metrics import mean_absolute_error\n",
    "\n",
    "lin_mae = mean_absolute_error(housing_labels, housing_predictions)\n",
    "lin_mae"
   ]
  },
  {
   "cell_type": "code",
   "execution_count": 87,
   "metadata": {},
   "outputs": [
    {
     "data": {
      "text/plain": [
       "DecisionTreeRegressor(random_state=42)"
      ]
     },
     "execution_count": 87,
     "metadata": {},
     "output_type": "execute_result"
    }
   ],
   "source": [
    "from sklearn.tree import DecisionTreeRegressor\n",
    "\n",
    "tree_reg = DecisionTreeRegressor(random_state=42)\n",
    "tree_reg.fit(housing_prepared, housing_labels)"
   ]
  },
  {
   "cell_type": "code",
   "execution_count": 88,
   "metadata": {},
   "outputs": [
    {
     "data": {
      "text/plain": [
       "0.0"
      ]
     },
     "execution_count": 88,
     "metadata": {},
     "output_type": "execute_result"
    }
   ],
   "source": [
    "housing_predictions = tree_reg.predict(housing_prepared)\n",
    "tree_mse = mean_squared_error(housing_labels, housing_predictions)\n",
    "tree_rmse = np.sqrt(tree_mse)\n",
    "tree_rmse"
   ]
  },
  {
   "cell_type": "code",
   "execution_count": 89,
   "metadata": {},
   "outputs": [],
   "source": [
    "from sklearn.model_selection import cross_val_score\n",
    "\n",
    "scores = cross_val_score(tree_reg, housing_prepared, housing_labels,\n",
    "                         scoring=\"neg_mean_squared_error\", cv=10)\n",
    "tree_rmse_scores = np.sqrt(-scores)"
   ]
  },
  {
   "cell_type": "code",
   "execution_count": 90,
   "metadata": {},
   "outputs": [
    {
     "name": "stdout",
     "output_type": "stream",
     "text": [
      "Scores: [72221.45886857 69278.33465512 70153.43179866 69898.76324635\n",
      " 70411.71082886 74407.50349947 71642.66557878 71215.48180177\n",
      " 75815.23229863 70712.7886106 ]\n",
      "Mean: 71575.73711868042\n",
      "Standard deviation: 1968.6627265472991\n"
     ]
    }
   ],
   "source": [
    "def display_scores(scores):\n",
    "    print(\"Scores:\", scores)\n",
    "    print(\"Mean:\", scores.mean())\n",
    "    print(\"Standard deviation:\", scores.std())\n",
    "\n",
    "display_scores(tree_rmse_scores)"
   ]
  },
  {
   "cell_type": "code",
   "execution_count": 91,
   "metadata": {},
   "outputs": [
    {
     "name": "stdout",
     "output_type": "stream",
     "text": [
      "Scores: [66140.5574445  66402.64250448 67308.08567538 73980.14151657\n",
      " 67666.27878335 70758.72248018 63820.26082748 67347.49168296\n",
      " 70423.45351656 67291.28882149]\n",
      "Mean: 68113.8923252968\n",
      "Standard deviation: 2722.3795780092823\n"
     ]
    }
   ],
   "source": [
    "lin_scores = cross_val_score(lin_reg, housing_prepared, housing_labels,\n",
    "                             scoring=\"neg_mean_squared_error\", cv=10)\n",
    "lin_rmse_scores = np.sqrt(-lin_scores)\n",
    "display_scores(lin_rmse_scores)"
   ]
  },
  {
   "cell_type": "code",
   "execution_count": 92,
   "metadata": {},
   "outputs": [
    {
     "data": {
      "text/plain": [
       "RandomForestRegressor(n_estimators=10, random_state=42)"
      ]
     },
     "execution_count": 92,
     "metadata": {},
     "output_type": "execute_result"
    }
   ],
   "source": [
    "from sklearn.ensemble import RandomForestRegressor\n",
    "\n",
    "forest_reg = RandomForestRegressor(n_estimators=10, random_state=42)\n",
    "forest_reg.fit(housing_prepared, housing_labels)"
   ]
  },
  {
   "cell_type": "code",
   "execution_count": 93,
   "metadata": {},
   "outputs": [
    {
     "data": {
      "text/plain": [
       "22151.647136973686"
      ]
     },
     "execution_count": 93,
     "metadata": {},
     "output_type": "execute_result"
    }
   ],
   "source": [
    "housing_predictions = forest_reg.predict(housing_prepared)\n",
    "forest_mse = mean_squared_error(housing_labels, housing_predictions)\n",
    "forest_rmse = np.sqrt(forest_mse)\n",
    "forest_rmse"
   ]
  },
  {
   "cell_type": "code",
   "execution_count": 94,
   "metadata": {},
   "outputs": [
    {
     "name": "stdout",
     "output_type": "stream",
     "text": [
      "Scores: [51809.68996778 49007.48357407 53679.36228666 54415.36955287\n",
      " 51251.92902108 56772.98770235 52229.40733515 49866.38194374\n",
      " 55123.03978433 53337.72837667]\n",
      "Mean: 52749.3379544699\n",
      "Standard deviation: 2269.7893464033727\n"
     ]
    }
   ],
   "source": [
    "from sklearn.model_selection import cross_val_score\n",
    "\n",
    "forest_scores = cross_val_score(forest_reg, housing_prepared, housing_labels,\n",
    "                                scoring=\"neg_mean_squared_error\", cv=10)\n",
    "forest_rmse_scores = np.sqrt(-forest_scores)\n",
    "display_scores(forest_rmse_scores)"
   ]
  },
  {
   "cell_type": "code",
   "execution_count": 95,
   "metadata": {},
   "outputs": [
    {
     "data": {
      "text/plain": [
       "count       10.000000\n",
       "mean     68113.892325\n",
       "std       2869.640041\n",
       "min      63820.260827\n",
       "25%      66624.804084\n",
       "50%      67327.788679\n",
       "75%      69734.159833\n",
       "max      73980.141517\n",
       "dtype: float64"
      ]
     },
     "execution_count": 95,
     "metadata": {},
     "output_type": "execute_result"
    }
   ],
   "source": [
    "scores = cross_val_score(lin_reg, housing_prepared, housing_labels, scoring=\"neg_mean_squared_error\", cv=10)\n",
    "pd.Series(np.sqrt(-scores)).describe()"
   ]
  },
  {
   "cell_type": "code",
   "execution_count": 96,
   "metadata": {},
   "outputs": [
    {
     "data": {
      "text/plain": [
       "SVR(kernel='linear')"
      ]
     },
     "execution_count": 96,
     "metadata": {},
     "output_type": "execute_result"
    },
    {
     "data": {
      "text/plain": [
       "106512.58423876738"
      ]
     },
     "execution_count": 96,
     "metadata": {},
     "output_type": "execute_result"
    }
   ],
   "source": [
    "from sklearn.svm import SVR\n",
    "\n",
    "svm_reg = SVR(kernel=\"linear\")\n",
    "svm_reg.fit(housing_prepared, housing_labels)\n",
    "housing_predictions = svm_reg.predict(housing_prepared)\n",
    "svm_mse = mean_squared_error(housing_labels, housing_predictions)\n",
    "svm_rmse = np.sqrt(svm_mse)\n",
    "svm_rmse"
   ]
  },
  {
   "cell_type": "code",
   "execution_count": 97,
   "metadata": {},
   "outputs": [
    {
     "data": {
      "text/plain": [
       "GridSearchCV(cv=5, estimator=RandomForestRegressor(random_state=42),\n",
       "             param_grid=[{'max_features': [2, 4, 6, 8],\n",
       "                          'n_estimators': [3, 10, 30]},\n",
       "                         {'bootstrap': [False], 'max_features': [2, 3, 4],\n",
       "                          'n_estimators': [3, 10]}],\n",
       "             return_train_score=True, scoring='neg_mean_squared_error')"
      ]
     },
     "execution_count": 97,
     "metadata": {},
     "output_type": "execute_result"
    }
   ],
   "source": [
    "from sklearn.model_selection import GridSearchCV\n",
    "\n",
    "param_grid = [\n",
    "    # try 12 (3×4) combinations of hyperparameters\n",
    "    {'n_estimators': [3, 10, 30], 'max_features': [2, 4, 6, 8]},\n",
    "    # then try 6 (2×3) combinations with bootstrap set as False\n",
    "    {'bootstrap': [False], 'n_estimators': [3, 10], 'max_features': [2, 3, 4]},\n",
    "  ]\n",
    "\n",
    "forest_reg = RandomForestRegressor(random_state=42)\n",
    "# train across 5 folds, that's a total of (12+6)*5=90 rounds of training \n",
    "grid_search = GridSearchCV(forest_reg, param_grid, cv=5,\n",
    "                           scoring='neg_mean_squared_error', return_train_score=True)\n",
    "grid_search.fit(housing_prepared, housing_labels)"
   ]
  },
  {
   "cell_type": "code",
   "execution_count": 98,
   "metadata": {},
   "outputs": [
    {
     "data": {
      "text/plain": [
       "{'max_features': 8, 'n_estimators': 30}"
      ]
     },
     "execution_count": 98,
     "metadata": {},
     "output_type": "execute_result"
    }
   ],
   "source": [
    "grid_search.best_params_"
   ]
  },
  {
   "cell_type": "code",
   "execution_count": 99,
   "metadata": {},
   "outputs": [
    {
     "name": "stdout",
     "output_type": "stream",
     "text": [
      "66131.94342346578 {'max_features': 2, 'n_estimators': 3}\n",
      "57525.45269540361 {'max_features': 2, 'n_estimators': 10}\n",
      "54410.69701644779 {'max_features': 2, 'n_estimators': 30}\n",
      "61972.073682029826 {'max_features': 4, 'n_estimators': 3}\n",
      "54714.205088475566 {'max_features': 4, 'n_estimators': 10}\n",
      "52241.91233305598 {'max_features': 4, 'n_estimators': 30}\n",
      "61611.183562211256 {'max_features': 6, 'n_estimators': 3}\n",
      "54214.676560932225 {'max_features': 6, 'n_estimators': 10}\n",
      "52000.9002680324 {'max_features': 6, 'n_estimators': 30}\n",
      "60693.568463750446 {'max_features': 8, 'n_estimators': 3}\n",
      "53918.932634022094 {'max_features': 8, 'n_estimators': 10}\n",
      "51791.5151054305 {'max_features': 8, 'n_estimators': 30}\n",
      "64074.64609576458 {'bootstrap': False, 'max_features': 2, 'n_estimators': 3}\n",
      "55862.57521915211 {'bootstrap': False, 'max_features': 2, 'n_estimators': 10}\n",
      "62045.800321348615 {'bootstrap': False, 'max_features': 3, 'n_estimators': 3}\n",
      "54136.57637799724 {'bootstrap': False, 'max_features': 3, 'n_estimators': 10}\n",
      "60277.546816953414 {'bootstrap': False, 'max_features': 4, 'n_estimators': 3}\n",
      "53364.46592579974 {'bootstrap': False, 'max_features': 4, 'n_estimators': 10}\n"
     ]
    }
   ],
   "source": [
    "cvres = grid_search.cv_results_\n",
    "for mean_score, params in zip(cvres[\"mean_test_score\"], cvres[\"params\"]):\n",
    "    print(np.sqrt(-mean_score), params)"
   ]
  },
  {
   "cell_type": "code",
   "execution_count": 100,
   "metadata": {},
   "outputs": [
    {
     "data": {
      "text/html": [
       "<div>\n",
       "<style scoped>\n",
       "    .dataframe tbody tr th:only-of-type {\n",
       "        vertical-align: middle;\n",
       "    }\n",
       "\n",
       "    .dataframe tbody tr th {\n",
       "        vertical-align: top;\n",
       "    }\n",
       "\n",
       "    .dataframe thead th {\n",
       "        text-align: right;\n",
       "    }\n",
       "</style>\n",
       "<table border=\"1\" class=\"dataframe\">\n",
       "  <thead>\n",
       "    <tr style=\"text-align: right;\">\n",
       "      <th></th>\n",
       "      <th>mean_fit_time</th>\n",
       "      <th>std_fit_time</th>\n",
       "      <th>mean_score_time</th>\n",
       "      <th>std_score_time</th>\n",
       "      <th>param_max_features</th>\n",
       "      <th>param_n_estimators</th>\n",
       "      <th>param_bootstrap</th>\n",
       "      <th>params</th>\n",
       "      <th>split0_test_score</th>\n",
       "      <th>split1_test_score</th>\n",
       "      <th>...</th>\n",
       "      <th>mean_test_score</th>\n",
       "      <th>std_test_score</th>\n",
       "      <th>rank_test_score</th>\n",
       "      <th>split0_train_score</th>\n",
       "      <th>split1_train_score</th>\n",
       "      <th>split2_train_score</th>\n",
       "      <th>split3_train_score</th>\n",
       "      <th>split4_train_score</th>\n",
       "      <th>mean_train_score</th>\n",
       "      <th>std_train_score</th>\n",
       "    </tr>\n",
       "  </thead>\n",
       "  <tbody>\n",
       "    <tr>\n",
       "      <th>0</th>\n",
       "      <td>0.086790</td>\n",
       "      <td>0.016618</td>\n",
       "      <td>0.005231</td>\n",
       "      <td>0.000566</td>\n",
       "      <td>2</td>\n",
       "      <td>3</td>\n",
       "      <td>NaN</td>\n",
       "      <td>{'max_features': 2, 'n_estimators': 3}</td>\n",
       "      <td>-4.204972e+09</td>\n",
       "      <td>-4.513186e+09</td>\n",
       "      <td>...</td>\n",
       "      <td>-4.373434e+09</td>\n",
       "      <td>1.248234e+08</td>\n",
       "      <td>18</td>\n",
       "      <td>-1.100649e+09</td>\n",
       "      <td>-1.106709e+09</td>\n",
       "      <td>-1.124862e+09</td>\n",
       "      <td>-1.209006e+09</td>\n",
       "      <td>-1.183871e+09</td>\n",
       "      <td>-1.145019e+09</td>\n",
       "      <td>4.346581e+07</td>\n",
       "    </tr>\n",
       "    <tr>\n",
       "      <th>1</th>\n",
       "      <td>0.245885</td>\n",
       "      <td>0.006278</td>\n",
       "      <td>0.013767</td>\n",
       "      <td>0.000791</td>\n",
       "      <td>2</td>\n",
       "      <td>10</td>\n",
       "      <td>NaN</td>\n",
       "      <td>{'max_features': 2, 'n_estimators': 10}</td>\n",
       "      <td>-3.074279e+09</td>\n",
       "      <td>-3.432251e+09</td>\n",
       "      <td>...</td>\n",
       "      <td>-3.309178e+09</td>\n",
       "      <td>1.560742e+08</td>\n",
       "      <td>11</td>\n",
       "      <td>-6.029601e+08</td>\n",
       "      <td>-5.973483e+08</td>\n",
       "      <td>-6.035260e+08</td>\n",
       "      <td>-6.408215e+08</td>\n",
       "      <td>-6.152356e+08</td>\n",
       "      <td>-6.119783e+08</td>\n",
       "      <td>1.555216e+07</td>\n",
       "    </tr>\n",
       "    <tr>\n",
       "      <th>2</th>\n",
       "      <td>0.714521</td>\n",
       "      <td>0.019289</td>\n",
       "      <td>0.035286</td>\n",
       "      <td>0.001298</td>\n",
       "      <td>2</td>\n",
       "      <td>30</td>\n",
       "      <td>NaN</td>\n",
       "      <td>{'max_features': 2, 'n_estimators': 30}</td>\n",
       "      <td>-2.813972e+09</td>\n",
       "      <td>-3.057111e+09</td>\n",
       "      <td>...</td>\n",
       "      <td>-2.960524e+09</td>\n",
       "      <td>1.555263e+08</td>\n",
       "      <td>8</td>\n",
       "      <td>-4.574785e+08</td>\n",
       "      <td>-4.499744e+08</td>\n",
       "      <td>-4.494850e+08</td>\n",
       "      <td>-4.730124e+08</td>\n",
       "      <td>-4.580355e+08</td>\n",
       "      <td>-4.575972e+08</td>\n",
       "      <td>8.505874e+06</td>\n",
       "    </tr>\n",
       "    <tr>\n",
       "      <th>3</th>\n",
       "      <td>0.111644</td>\n",
       "      <td>0.001952</td>\n",
       "      <td>0.004466</td>\n",
       "      <td>0.000130</td>\n",
       "      <td>4</td>\n",
       "      <td>3</td>\n",
       "      <td>NaN</td>\n",
       "      <td>{'max_features': 4, 'n_estimators': 3}</td>\n",
       "      <td>-3.709663e+09</td>\n",
       "      <td>-3.865387e+09</td>\n",
       "      <td>...</td>\n",
       "      <td>-3.840538e+09</td>\n",
       "      <td>1.114349e+08</td>\n",
       "      <td>15</td>\n",
       "      <td>-1.005055e+09</td>\n",
       "      <td>-9.663760e+08</td>\n",
       "      <td>-9.631303e+08</td>\n",
       "      <td>-1.044090e+09</td>\n",
       "      <td>-9.780508e+08</td>\n",
       "      <td>-9.913405e+08</td>\n",
       "      <td>3.022002e+07</td>\n",
       "    </tr>\n",
       "    <tr>\n",
       "      <th>4</th>\n",
       "      <td>0.374543</td>\n",
       "      <td>0.011562</td>\n",
       "      <td>0.013531</td>\n",
       "      <td>0.001964</td>\n",
       "      <td>4</td>\n",
       "      <td>10</td>\n",
       "      <td>NaN</td>\n",
       "      <td>{'max_features': 4, 'n_estimators': 10}</td>\n",
       "      <td>-2.839814e+09</td>\n",
       "      <td>-3.049596e+09</td>\n",
       "      <td>...</td>\n",
       "      <td>-2.993644e+09</td>\n",
       "      <td>1.241230e+08</td>\n",
       "      <td>9</td>\n",
       "      <td>-5.460150e+08</td>\n",
       "      <td>-5.442985e+08</td>\n",
       "      <td>-5.189567e+08</td>\n",
       "      <td>-5.757153e+08</td>\n",
       "      <td>-5.323615e+08</td>\n",
       "      <td>-5.434694e+08</td>\n",
       "      <td>1.882139e+07</td>\n",
       "    </tr>\n",
       "    <tr>\n",
       "      <th>5</th>\n",
       "      <td>1.127462</td>\n",
       "      <td>0.016531</td>\n",
       "      <td>0.034716</td>\n",
       "      <td>0.000582</td>\n",
       "      <td>4</td>\n",
       "      <td>30</td>\n",
       "      <td>NaN</td>\n",
       "      <td>{'max_features': 4, 'n_estimators': 30}</td>\n",
       "      <td>-2.545732e+09</td>\n",
       "      <td>-2.796218e+09</td>\n",
       "      <td>...</td>\n",
       "      <td>-2.729217e+09</td>\n",
       "      <td>1.590666e+08</td>\n",
       "      <td>3</td>\n",
       "      <td>-4.191215e+08</td>\n",
       "      <td>-4.141198e+08</td>\n",
       "      <td>-4.088791e+08</td>\n",
       "      <td>-4.300870e+08</td>\n",
       "      <td>-4.183736e+08</td>\n",
       "      <td>-4.181162e+08</td>\n",
       "      <td>7.009610e+06</td>\n",
       "    </tr>\n",
       "    <tr>\n",
       "      <th>6</th>\n",
       "      <td>0.157901</td>\n",
       "      <td>0.003231</td>\n",
       "      <td>0.004565</td>\n",
       "      <td>0.000273</td>\n",
       "      <td>6</td>\n",
       "      <td>3</td>\n",
       "      <td>NaN</td>\n",
       "      <td>{'max_features': 6, 'n_estimators': 3}</td>\n",
       "      <td>-3.774024e+09</td>\n",
       "      <td>-3.726905e+09</td>\n",
       "      <td>...</td>\n",
       "      <td>-3.795938e+09</td>\n",
       "      <td>1.343186e+08</td>\n",
       "      <td>14</td>\n",
       "      <td>-1.039202e+09</td>\n",
       "      <td>-9.695440e+08</td>\n",
       "      <td>-9.994769e+08</td>\n",
       "      <td>-1.033791e+09</td>\n",
       "      <td>-1.035120e+09</td>\n",
       "      <td>-1.015427e+09</td>\n",
       "      <td>2.701833e+07</td>\n",
       "    </tr>\n",
       "    <tr>\n",
       "      <th>7</th>\n",
       "      <td>0.524452</td>\n",
       "      <td>0.033142</td>\n",
       "      <td>0.013181</td>\n",
       "      <td>0.000509</td>\n",
       "      <td>6</td>\n",
       "      <td>10</td>\n",
       "      <td>NaN</td>\n",
       "      <td>{'max_features': 6, 'n_estimators': 10}</td>\n",
       "      <td>-2.745851e+09</td>\n",
       "      <td>-3.004894e+09</td>\n",
       "      <td>...</td>\n",
       "      <td>-2.939231e+09</td>\n",
       "      <td>1.608939e+08</td>\n",
       "      <td>7</td>\n",
       "      <td>-5.558216e+08</td>\n",
       "      <td>-5.276334e+08</td>\n",
       "      <td>-5.294080e+08</td>\n",
       "      <td>-5.611983e+08</td>\n",
       "      <td>-5.553615e+08</td>\n",
       "      <td>-5.458846e+08</td>\n",
       "      <td>1.433632e+07</td>\n",
       "    </tr>\n",
       "    <tr>\n",
       "      <th>8</th>\n",
       "      <td>1.825858</td>\n",
       "      <td>0.241864</td>\n",
       "      <td>0.036363</td>\n",
       "      <td>0.003950</td>\n",
       "      <td>6</td>\n",
       "      <td>30</td>\n",
       "      <td>NaN</td>\n",
       "      <td>{'max_features': 6, 'n_estimators': 30}</td>\n",
       "      <td>-2.522829e+09</td>\n",
       "      <td>-2.775686e+09</td>\n",
       "      <td>...</td>\n",
       "      <td>-2.704094e+09</td>\n",
       "      <td>1.719236e+08</td>\n",
       "      <td>2</td>\n",
       "      <td>-4.228068e+08</td>\n",
       "      <td>-4.068334e+08</td>\n",
       "      <td>-4.220146e+08</td>\n",
       "      <td>-4.252585e+08</td>\n",
       "      <td>-4.208323e+08</td>\n",
       "      <td>-4.195491e+08</td>\n",
       "      <td>6.521109e+06</td>\n",
       "    </tr>\n",
       "    <tr>\n",
       "      <th>9</th>\n",
       "      <td>0.199672</td>\n",
       "      <td>0.009034</td>\n",
       "      <td>0.004520</td>\n",
       "      <td>0.000306</td>\n",
       "      <td>8</td>\n",
       "      <td>3</td>\n",
       "      <td>NaN</td>\n",
       "      <td>{'max_features': 8, 'n_estimators': 3}</td>\n",
       "      <td>-3.345059e+09</td>\n",
       "      <td>-3.945320e+09</td>\n",
       "      <td>...</td>\n",
       "      <td>-3.683709e+09</td>\n",
       "      <td>2.601360e+08</td>\n",
       "      <td>13</td>\n",
       "      <td>-9.474535e+08</td>\n",
       "      <td>-9.462738e+08</td>\n",
       "      <td>-1.008057e+09</td>\n",
       "      <td>-9.915406e+08</td>\n",
       "      <td>-9.525722e+08</td>\n",
       "      <td>-9.691795e+08</td>\n",
       "      <td>2.562803e+07</td>\n",
       "    </tr>\n",
       "    <tr>\n",
       "      <th>10</th>\n",
       "      <td>0.853604</td>\n",
       "      <td>0.101558</td>\n",
       "      <td>0.016913</td>\n",
       "      <td>0.002910</td>\n",
       "      <td>8</td>\n",
       "      <td>10</td>\n",
       "      <td>NaN</td>\n",
       "      <td>{'max_features': 8, 'n_estimators': 10}</td>\n",
       "      <td>-2.663108e+09</td>\n",
       "      <td>-3.021001e+09</td>\n",
       "      <td>...</td>\n",
       "      <td>-2.907251e+09</td>\n",
       "      <td>1.871092e+08</td>\n",
       "      <td>5</td>\n",
       "      <td>-5.293739e+08</td>\n",
       "      <td>-5.157087e+08</td>\n",
       "      <td>-5.379977e+08</td>\n",
       "      <td>-5.561729e+08</td>\n",
       "      <td>-5.293255e+08</td>\n",
       "      <td>-5.337157e+08</td>\n",
       "      <td>1.330441e+07</td>\n",
       "    </tr>\n",
       "    <tr>\n",
       "      <th>11</th>\n",
       "      <td>2.182741</td>\n",
       "      <td>0.288120</td>\n",
       "      <td>0.036273</td>\n",
       "      <td>0.002268</td>\n",
       "      <td>8</td>\n",
       "      <td>30</td>\n",
       "      <td>NaN</td>\n",
       "      <td>{'max_features': 8, 'n_estimators': 30}</td>\n",
       "      <td>-2.539014e+09</td>\n",
       "      <td>-2.766109e+09</td>\n",
       "      <td>...</td>\n",
       "      <td>-2.682361e+09</td>\n",
       "      <td>1.563115e+08</td>\n",
       "      <td>1</td>\n",
       "      <td>-4.108352e+08</td>\n",
       "      <td>-4.027581e+08</td>\n",
       "      <td>-4.068492e+08</td>\n",
       "      <td>-4.226535e+08</td>\n",
       "      <td>-4.068382e+08</td>\n",
       "      <td>-4.099868e+08</td>\n",
       "      <td>6.829003e+06</td>\n",
       "    </tr>\n",
       "    <tr>\n",
       "      <th>12</th>\n",
       "      <td>0.115206</td>\n",
       "      <td>0.006466</td>\n",
       "      <td>0.006056</td>\n",
       "      <td>0.000336</td>\n",
       "      <td>2</td>\n",
       "      <td>3</td>\n",
       "      <td>False</td>\n",
       "      <td>{'bootstrap': False, 'max_features': 2, 'n_est...</td>\n",
       "      <td>-3.981019e+09</td>\n",
       "      <td>-4.207868e+09</td>\n",
       "      <td>...</td>\n",
       "      <td>-4.105560e+09</td>\n",
       "      <td>1.022632e+08</td>\n",
       "      <td>17</td>\n",
       "      <td>-0.000000e+00</td>\n",
       "      <td>-0.000000e+00</td>\n",
       "      <td>-1.051392e+04</td>\n",
       "      <td>-4.205568e+02</td>\n",
       "      <td>-0.000000e+00</td>\n",
       "      <td>-2.186895e+03</td>\n",
       "      <td>4.166697e+03</td>\n",
       "    </tr>\n",
       "    <tr>\n",
       "      <th>13</th>\n",
       "      <td>0.379333</td>\n",
       "      <td>0.021469</td>\n",
       "      <td>0.017482</td>\n",
       "      <td>0.003080</td>\n",
       "      <td>2</td>\n",
       "      <td>10</td>\n",
       "      <td>False</td>\n",
       "      <td>{'bootstrap': False, 'max_features': 2, 'n_est...</td>\n",
       "      <td>-2.925634e+09</td>\n",
       "      <td>-3.247382e+09</td>\n",
       "      <td>...</td>\n",
       "      <td>-3.120627e+09</td>\n",
       "      <td>1.708018e+08</td>\n",
       "      <td>10</td>\n",
       "      <td>-0.000000e+00</td>\n",
       "      <td>-9.463245e+02</td>\n",
       "      <td>-9.462528e+02</td>\n",
       "      <td>-3.785011e+01</td>\n",
       "      <td>-0.000000e+00</td>\n",
       "      <td>-3.860855e+02</td>\n",
       "      <td>4.576127e+02</td>\n",
       "    </tr>\n",
       "    <tr>\n",
       "      <th>14</th>\n",
       "      <td>0.150383</td>\n",
       "      <td>0.006696</td>\n",
       "      <td>0.005593</td>\n",
       "      <td>0.000817</td>\n",
       "      <td>3</td>\n",
       "      <td>3</td>\n",
       "      <td>False</td>\n",
       "      <td>{'bootstrap': False, 'max_features': 3, 'n_est...</td>\n",
       "      <td>-3.651134e+09</td>\n",
       "      <td>-4.010814e+09</td>\n",
       "      <td>...</td>\n",
       "      <td>-3.849681e+09</td>\n",
       "      <td>1.222354e+08</td>\n",
       "      <td>16</td>\n",
       "      <td>-0.000000e+00</td>\n",
       "      <td>-0.000000e+00</td>\n",
       "      <td>-0.000000e+00</td>\n",
       "      <td>-1.051392e+02</td>\n",
       "      <td>-0.000000e+00</td>\n",
       "      <td>-2.102784e+01</td>\n",
       "      <td>4.205568e+01</td>\n",
       "    </tr>\n",
       "    <tr>\n",
       "      <th>15</th>\n",
       "      <td>0.509049</td>\n",
       "      <td>0.008337</td>\n",
       "      <td>0.016534</td>\n",
       "      <td>0.002365</td>\n",
       "      <td>3</td>\n",
       "      <td>10</td>\n",
       "      <td>False</td>\n",
       "      <td>{'bootstrap': False, 'max_features': 3, 'n_est...</td>\n",
       "      <td>-2.770976e+09</td>\n",
       "      <td>-3.000366e+09</td>\n",
       "      <td>...</td>\n",
       "      <td>-2.930769e+09</td>\n",
       "      <td>9.648783e+07</td>\n",
       "      <td>6</td>\n",
       "      <td>-0.000000e+00</td>\n",
       "      <td>-0.000000e+00</td>\n",
       "      <td>-0.000000e+00</td>\n",
       "      <td>-9.462528e+00</td>\n",
       "      <td>-0.000000e+00</td>\n",
       "      <td>-1.892506e+00</td>\n",
       "      <td>3.785011e+00</td>\n",
       "    </tr>\n",
       "    <tr>\n",
       "      <th>16</th>\n",
       "      <td>0.177599</td>\n",
       "      <td>0.003698</td>\n",
       "      <td>0.005463</td>\n",
       "      <td>0.000570</td>\n",
       "      <td>4</td>\n",
       "      <td>3</td>\n",
       "      <td>False</td>\n",
       "      <td>{'bootstrap': False, 'max_features': 4, 'n_est...</td>\n",
       "      <td>-3.781312e+09</td>\n",
       "      <td>-3.610643e+09</td>\n",
       "      <td>...</td>\n",
       "      <td>-3.633383e+09</td>\n",
       "      <td>1.062607e+08</td>\n",
       "      <td>12</td>\n",
       "      <td>-0.000000e+00</td>\n",
       "      <td>-0.000000e+00</td>\n",
       "      <td>-0.000000e+00</td>\n",
       "      <td>-0.000000e+00</td>\n",
       "      <td>-2.302969e+02</td>\n",
       "      <td>-4.605938e+01</td>\n",
       "      <td>9.211877e+01</td>\n",
       "    </tr>\n",
       "    <tr>\n",
       "      <th>17</th>\n",
       "      <td>0.613255</td>\n",
       "      <td>0.019309</td>\n",
       "      <td>0.017060</td>\n",
       "      <td>0.002128</td>\n",
       "      <td>4</td>\n",
       "      <td>10</td>\n",
       "      <td>False</td>\n",
       "      <td>{'bootstrap': False, 'max_features': 4, 'n_est...</td>\n",
       "      <td>-2.771914e+09</td>\n",
       "      <td>-2.883275e+09</td>\n",
       "      <td>...</td>\n",
       "      <td>-2.847766e+09</td>\n",
       "      <td>1.183704e+08</td>\n",
       "      <td>4</td>\n",
       "      <td>-0.000000e+00</td>\n",
       "      <td>-0.000000e+00</td>\n",
       "      <td>-0.000000e+00</td>\n",
       "      <td>-0.000000e+00</td>\n",
       "      <td>-2.072672e+01</td>\n",
       "      <td>-4.145344e+00</td>\n",
       "      <td>8.290689e+00</td>\n",
       "    </tr>\n",
       "  </tbody>\n",
       "</table>\n",
       "<p>18 rows × 23 columns</p>\n",
       "</div>"
      ],
      "text/plain": [
       "    mean_fit_time  std_fit_time  mean_score_time  std_score_time  \\\n",
       "0        0.086790      0.016618         0.005231        0.000566   \n",
       "1        0.245885      0.006278         0.013767        0.000791   \n",
       "2        0.714521      0.019289         0.035286        0.001298   \n",
       "3        0.111644      0.001952         0.004466        0.000130   \n",
       "4        0.374543      0.011562         0.013531        0.001964   \n",
       "5        1.127462      0.016531         0.034716        0.000582   \n",
       "6        0.157901      0.003231         0.004565        0.000273   \n",
       "7        0.524452      0.033142         0.013181        0.000509   \n",
       "8        1.825858      0.241864         0.036363        0.003950   \n",
       "9        0.199672      0.009034         0.004520        0.000306   \n",
       "10       0.853604      0.101558         0.016913        0.002910   \n",
       "11       2.182741      0.288120         0.036273        0.002268   \n",
       "12       0.115206      0.006466         0.006056        0.000336   \n",
       "13       0.379333      0.021469         0.017482        0.003080   \n",
       "14       0.150383      0.006696         0.005593        0.000817   \n",
       "15       0.509049      0.008337         0.016534        0.002365   \n",
       "16       0.177599      0.003698         0.005463        0.000570   \n",
       "17       0.613255      0.019309         0.017060        0.002128   \n",
       "\n",
       "   param_max_features param_n_estimators param_bootstrap  \\\n",
       "0                   2                  3             NaN   \n",
       "1                   2                 10             NaN   \n",
       "2                   2                 30             NaN   \n",
       "3                   4                  3             NaN   \n",
       "4                   4                 10             NaN   \n",
       "5                   4                 30             NaN   \n",
       "6                   6                  3             NaN   \n",
       "7                   6                 10             NaN   \n",
       "8                   6                 30             NaN   \n",
       "9                   8                  3             NaN   \n",
       "10                  8                 10             NaN   \n",
       "11                  8                 30             NaN   \n",
       "12                  2                  3           False   \n",
       "13                  2                 10           False   \n",
       "14                  3                  3           False   \n",
       "15                  3                 10           False   \n",
       "16                  4                  3           False   \n",
       "17                  4                 10           False   \n",
       "\n",
       "                                               params  split0_test_score  \\\n",
       "0              {'max_features': 2, 'n_estimators': 3}      -4.204972e+09   \n",
       "1             {'max_features': 2, 'n_estimators': 10}      -3.074279e+09   \n",
       "2             {'max_features': 2, 'n_estimators': 30}      -2.813972e+09   \n",
       "3              {'max_features': 4, 'n_estimators': 3}      -3.709663e+09   \n",
       "4             {'max_features': 4, 'n_estimators': 10}      -2.839814e+09   \n",
       "5             {'max_features': 4, 'n_estimators': 30}      -2.545732e+09   \n",
       "6              {'max_features': 6, 'n_estimators': 3}      -3.774024e+09   \n",
       "7             {'max_features': 6, 'n_estimators': 10}      -2.745851e+09   \n",
       "8             {'max_features': 6, 'n_estimators': 30}      -2.522829e+09   \n",
       "9              {'max_features': 8, 'n_estimators': 3}      -3.345059e+09   \n",
       "10            {'max_features': 8, 'n_estimators': 10}      -2.663108e+09   \n",
       "11            {'max_features': 8, 'n_estimators': 30}      -2.539014e+09   \n",
       "12  {'bootstrap': False, 'max_features': 2, 'n_est...      -3.981019e+09   \n",
       "13  {'bootstrap': False, 'max_features': 2, 'n_est...      -2.925634e+09   \n",
       "14  {'bootstrap': False, 'max_features': 3, 'n_est...      -3.651134e+09   \n",
       "15  {'bootstrap': False, 'max_features': 3, 'n_est...      -2.770976e+09   \n",
       "16  {'bootstrap': False, 'max_features': 4, 'n_est...      -3.781312e+09   \n",
       "17  {'bootstrap': False, 'max_features': 4, 'n_est...      -2.771914e+09   \n",
       "\n",
       "    split1_test_score  ...  mean_test_score  std_test_score  rank_test_score  \\\n",
       "0       -4.513186e+09  ...    -4.373434e+09    1.248234e+08               18   \n",
       "1       -3.432251e+09  ...    -3.309178e+09    1.560742e+08               11   \n",
       "2       -3.057111e+09  ...    -2.960524e+09    1.555263e+08                8   \n",
       "3       -3.865387e+09  ...    -3.840538e+09    1.114349e+08               15   \n",
       "4       -3.049596e+09  ...    -2.993644e+09    1.241230e+08                9   \n",
       "5       -2.796218e+09  ...    -2.729217e+09    1.590666e+08                3   \n",
       "6       -3.726905e+09  ...    -3.795938e+09    1.343186e+08               14   \n",
       "7       -3.004894e+09  ...    -2.939231e+09    1.608939e+08                7   \n",
       "8       -2.775686e+09  ...    -2.704094e+09    1.719236e+08                2   \n",
       "9       -3.945320e+09  ...    -3.683709e+09    2.601360e+08               13   \n",
       "10      -3.021001e+09  ...    -2.907251e+09    1.871092e+08                5   \n",
       "11      -2.766109e+09  ...    -2.682361e+09    1.563115e+08                1   \n",
       "12      -4.207868e+09  ...    -4.105560e+09    1.022632e+08               17   \n",
       "13      -3.247382e+09  ...    -3.120627e+09    1.708018e+08               10   \n",
       "14      -4.010814e+09  ...    -3.849681e+09    1.222354e+08               16   \n",
       "15      -3.000366e+09  ...    -2.930769e+09    9.648783e+07                6   \n",
       "16      -3.610643e+09  ...    -3.633383e+09    1.062607e+08               12   \n",
       "17      -2.883275e+09  ...    -2.847766e+09    1.183704e+08                4   \n",
       "\n",
       "    split0_train_score  split1_train_score  split2_train_score  \\\n",
       "0        -1.100649e+09       -1.106709e+09       -1.124862e+09   \n",
       "1        -6.029601e+08       -5.973483e+08       -6.035260e+08   \n",
       "2        -4.574785e+08       -4.499744e+08       -4.494850e+08   \n",
       "3        -1.005055e+09       -9.663760e+08       -9.631303e+08   \n",
       "4        -5.460150e+08       -5.442985e+08       -5.189567e+08   \n",
       "5        -4.191215e+08       -4.141198e+08       -4.088791e+08   \n",
       "6        -1.039202e+09       -9.695440e+08       -9.994769e+08   \n",
       "7        -5.558216e+08       -5.276334e+08       -5.294080e+08   \n",
       "8        -4.228068e+08       -4.068334e+08       -4.220146e+08   \n",
       "9        -9.474535e+08       -9.462738e+08       -1.008057e+09   \n",
       "10       -5.293739e+08       -5.157087e+08       -5.379977e+08   \n",
       "11       -4.108352e+08       -4.027581e+08       -4.068492e+08   \n",
       "12       -0.000000e+00       -0.000000e+00       -1.051392e+04   \n",
       "13       -0.000000e+00       -9.463245e+02       -9.462528e+02   \n",
       "14       -0.000000e+00       -0.000000e+00       -0.000000e+00   \n",
       "15       -0.000000e+00       -0.000000e+00       -0.000000e+00   \n",
       "16       -0.000000e+00       -0.000000e+00       -0.000000e+00   \n",
       "17       -0.000000e+00       -0.000000e+00       -0.000000e+00   \n",
       "\n",
       "    split3_train_score  split4_train_score  mean_train_score  std_train_score  \n",
       "0        -1.209006e+09       -1.183871e+09     -1.145019e+09     4.346581e+07  \n",
       "1        -6.408215e+08       -6.152356e+08     -6.119783e+08     1.555216e+07  \n",
       "2        -4.730124e+08       -4.580355e+08     -4.575972e+08     8.505874e+06  \n",
       "3        -1.044090e+09       -9.780508e+08     -9.913405e+08     3.022002e+07  \n",
       "4        -5.757153e+08       -5.323615e+08     -5.434694e+08     1.882139e+07  \n",
       "5        -4.300870e+08       -4.183736e+08     -4.181162e+08     7.009610e+06  \n",
       "6        -1.033791e+09       -1.035120e+09     -1.015427e+09     2.701833e+07  \n",
       "7        -5.611983e+08       -5.553615e+08     -5.458846e+08     1.433632e+07  \n",
       "8        -4.252585e+08       -4.208323e+08     -4.195491e+08     6.521109e+06  \n",
       "9        -9.915406e+08       -9.525722e+08     -9.691795e+08     2.562803e+07  \n",
       "10       -5.561729e+08       -5.293255e+08     -5.337157e+08     1.330441e+07  \n",
       "11       -4.226535e+08       -4.068382e+08     -4.099868e+08     6.829003e+06  \n",
       "12       -4.205568e+02       -0.000000e+00     -2.186895e+03     4.166697e+03  \n",
       "13       -3.785011e+01       -0.000000e+00     -3.860855e+02     4.576127e+02  \n",
       "14       -1.051392e+02       -0.000000e+00     -2.102784e+01     4.205568e+01  \n",
       "15       -9.462528e+00       -0.000000e+00     -1.892506e+00     3.785011e+00  \n",
       "16       -0.000000e+00       -2.302969e+02     -4.605938e+01     9.211877e+01  \n",
       "17       -0.000000e+00       -2.072672e+01     -4.145344e+00     8.290689e+00  \n",
       "\n",
       "[18 rows x 23 columns]"
      ]
     },
     "execution_count": 100,
     "metadata": {},
     "output_type": "execute_result"
    }
   ],
   "source": [
    "pd.DataFrame(grid_search.cv_results_)"
   ]
  },
  {
   "cell_type": "code",
   "execution_count": null,
   "metadata": {},
   "outputs": [],
   "source": []
  },
  {
   "cell_type": "code",
   "execution_count": 101,
   "metadata": {},
   "outputs": [
    {
     "data": {
      "text/plain": [
       "RandomizedSearchCV(cv=5, estimator=RandomForestRegressor(random_state=42),\n",
       "                   param_distributions={'max_features': <scipy.stats._distn_infrastructure.rv_frozen object at 0x122820970>,\n",
       "                                        'n_estimators': <scipy.stats._distn_infrastructure.rv_frozen object at 0x122769910>},\n",
       "                   random_state=42, scoring='neg_mean_squared_error')"
      ]
     },
     "execution_count": 101,
     "metadata": {},
     "output_type": "execute_result"
    }
   ],
   "source": [
    "from sklearn.model_selection import RandomizedSearchCV\n",
    "from scipy.stats import randint\n",
    "\n",
    "param_distribs = {\n",
    "        'n_estimators': randint(low=1, high=200),\n",
    "        'max_features': randint(low=1, high=8),\n",
    "    }\n",
    "\n",
    "forest_reg = RandomForestRegressor(random_state=42)\n",
    "rnd_search = RandomizedSearchCV(forest_reg, param_distributions=param_distribs,\n",
    "                                n_iter=10, cv=5, scoring='neg_mean_squared_error', random_state=42)\n",
    "rnd_search.fit(housing_prepared, housing_labels)"
   ]
  },
  {
   "cell_type": "code",
   "execution_count": 102,
   "metadata": {},
   "outputs": [
    {
     "name": "stdout",
     "output_type": "stream",
     "text": [
      "50811.44315668507 {'max_features': 7, 'n_estimators': 180}\n",
      "53406.72383278459 {'max_features': 5, 'n_estimators': 15}\n",
      "52525.51612964028 {'max_features': 3, 'n_estimators': 72}\n",
      "52900.80788594139 {'max_features': 5, 'n_estimators': 21}\n",
      "50958.00221390478 {'max_features': 7, 'n_estimators': 122}\n",
      "52501.08788056325 {'max_features': 3, 'n_estimators': 75}\n",
      "52457.37386476382 {'max_features': 3, 'n_estimators': 88}\n",
      "51568.18510507735 {'max_features': 5, 'n_estimators': 100}\n",
      "52297.18831534609 {'max_features': 3, 'n_estimators': 150}\n",
      "66368.74609306744 {'max_features': 5, 'n_estimators': 2}\n"
     ]
    }
   ],
   "source": [
    "cvres = rnd_search.cv_results_\n",
    "for mean_score, params in zip(cvres[\"mean_test_score\"], cvres[\"params\"]):\n",
    "    print(np.sqrt(-mean_score), params)"
   ]
  },
  {
   "cell_type": "code",
   "execution_count": 103,
   "metadata": {},
   "outputs": [
    {
     "data": {
      "text/plain": [
       "array([5.16987253e-02, 4.84388478e-02, 4.35994406e-02, 1.41732167e-02,\n",
       "       1.43616617e-02, 1.33356372e-02, 1.40853354e-02, 3.01078540e-01,\n",
       "       1.20253444e-01, 3.41974551e-02, 1.89312696e-02, 6.75241298e-02,\n",
       "       2.65415932e-02, 6.30434503e-02, 2.59018419e-02, 6.53048498e-03,\n",
       "       1.31245315e-01, 4.17938670e-05, 1.82023735e-03, 3.19758102e-03])"
      ]
     },
     "execution_count": 103,
     "metadata": {},
     "output_type": "execute_result"
    }
   ],
   "source": [
    "feature_importances = grid_search.best_estimator_.feature_importances_\n",
    "feature_importances"
   ]
  },
  {
   "cell_type": "code",
   "execution_count": 104,
   "metadata": {},
   "outputs": [
    {
     "data": {
      "text/plain": [
       "[(0.30107854003463086, 'median_income'),\n",
       " (0.1312453145324801, 'INLAND'),\n",
       " (0.12025344367224292, 'income_cat'),\n",
       " (0.06752412976671635, 'population_per_household'),\n",
       " (0.06304345028233407, 'pop_per_hhold'),\n",
       " (0.051698725313192494, 'longitude'),\n",
       " (0.04843884778043397, 'latitude'),\n",
       " (0.043599440569277226, 'housing_median_age'),\n",
       " (0.03419745512929854, 'rooms_per_household'),\n",
       " (0.026541593190540357, 'rooms_per_hhold'),\n",
       " (0.025901841923332263, 'bedrooms_per_room'),\n",
       " (0.01893126963550547, 'bedrooms_per_room'),\n",
       " (0.014361661686620036, 'total_bedrooms'),\n",
       " (0.014173216652233442, 'total_rooms'),\n",
       " (0.014085335397587334, 'households'),\n",
       " (0.013335637223048653, 'population'),\n",
       " (0.006530484975669719, '<1H OCEAN'),\n",
       " (0.003197581017335561, 'NEAR OCEAN'),\n",
       " (0.0018202373505029786, 'NEAR BAY'),\n",
       " (4.1793867017681965e-05, 'ISLAND')]"
      ]
     },
     "execution_count": 104,
     "metadata": {},
     "output_type": "execute_result"
    }
   ],
   "source": [
    "extra_attribs = [\"rooms_per_hhold\", \"pop_per_hhold\", \"bedrooms_per_room\"]\n",
    "#cat_encoder = cat_pipeline.named_steps[\"cat_encoder\"] # old solution\n",
    "cat_encoder = full_pipeline.named_transformers_[\"cat\"]\n",
    "cat_one_hot_attribs = list(cat_encoder.categories_[0])\n",
    "attributes = num_attribs + extra_attribs + cat_one_hot_attribs\n",
    "sorted(zip(feature_importances, attributes), reverse=True)"
   ]
  },
  {
   "cell_type": "code",
   "execution_count": 106,
   "metadata": {},
   "outputs": [
    {
     "data": {
      "text/plain": [
       "49893.9906242225"
      ]
     },
     "execution_count": 106,
     "metadata": {},
     "output_type": "execute_result"
    }
   ],
   "source": [
    "final_model = grid_search.best_estimator_\n",
    "\n",
    "X_test = strat_test_set.drop(\"median_house_value\", axis=1)\n",
    "y_test = strat_test_set[\"median_house_value\"].copy()\n",
    "\n",
    "X_test_prepared = full_pipeline.transform(X_test)\n",
    "final_predictions = final_model.predict(X_test_prepared)\n",
    "\n",
    "final_mse = mean_squared_error(y_test, final_predictions)\n",
    "final_rmse = np.sqrt(final_mse)\n",
    "\n",
    "final_rmse"
   ]
  },
  {
   "cell_type": "code",
   "execution_count": 107,
   "metadata": {},
   "outputs": [],
   "source": [
    "from scipy import stats"
   ]
  },
  {
   "cell_type": "code",
   "execution_count": 108,
   "metadata": {},
   "outputs": [
    {
     "data": {
      "text/plain": [
       "array([47885.17986684, 51824.99541669])"
      ]
     },
     "execution_count": 108,
     "metadata": {},
     "output_type": "execute_result"
    }
   ],
   "source": [
    "confidence = 0.95\n",
    "squared_errors = (final_predictions - y_test) ** 2\n",
    "mean = squared_errors.mean()\n",
    "m = len(squared_errors)\n",
    "\n",
    "np.sqrt(stats.t.interval(confidence, m - 1,\n",
    "                         loc=np.mean(squared_errors),\n",
    "                         scale=stats.sem(squared_errors)))"
   ]
  },
  {
   "cell_type": "code",
   "execution_count": 109,
   "metadata": {},
   "outputs": [
    {
     "data": {
      "text/plain": [
       "Pipeline(steps=[('preparation',\n",
       "                 ColumnTransformer(transformers=[('num',\n",
       "                                                  Pipeline(steps=[('imputer',\n",
       "                                                                   SimpleImputer(strategy='median')),\n",
       "                                                                  ('attribs_adder',\n",
       "                                                                   FunctionTransformer(func=<function add_extra_features at 0x121ffd4c0>)),\n",
       "                                                                  ('std_scaler',\n",
       "                                                                   StandardScaler())]),\n",
       "                                                  ['longitude', 'latitude',\n",
       "                                                   'housing_median_age',\n",
       "                                                   'total_rooms',\n",
       "                                                   'total_bedrooms',\n",
       "                                                   'population', 'households',\n",
       "                                                   'median_income',\n",
       "                                                   'income_cat',\n",
       "                                                   'rooms_per_household',\n",
       "                                                   'bedrooms_per_room',\n",
       "                                                   'population_per_household']),\n",
       "                                                 ('cat', OneHotEncoder(),\n",
       "                                                  ['ocean_proximity'])])),\n",
       "                ('linear', LinearRegression())])"
      ]
     },
     "execution_count": 109,
     "metadata": {},
     "output_type": "execute_result"
    },
    {
     "data": {
      "text/plain": [
       "array([200860.48973484, 325527.93559759, 201882.47991703,  54956.04539331,\n",
       "       188116.26928254])"
      ]
     },
     "execution_count": 109,
     "metadata": {},
     "output_type": "execute_result"
    }
   ],
   "source": [
    "full_pipeline_with_predictor = Pipeline([\n",
    "        (\"preparation\", full_pipeline),\n",
    "        (\"linear\", LinearRegression())\n",
    "    ])\n",
    "\n",
    "full_pipeline_with_predictor.fit(housing, housing_labels)\n",
    "full_pipeline_with_predictor.predict(some_data)"
   ]
  },
  {
   "cell_type": "code",
   "execution_count": 110,
   "metadata": {},
   "outputs": [],
   "source": [
    "my_model = full_pipeline_with_predictor"
   ]
  },
  {
   "cell_type": "code",
   "execution_count": 114,
   "metadata": {},
   "outputs": [
    {
     "data": {
      "text/plain": [
       "['my_model.pkl']"
      ]
     },
     "execution_count": 114,
     "metadata": {},
     "output_type": "execute_result"
    }
   ],
   "source": [
    "import joblib\n",
    "joblib.dump(my_model, \"my_model.pkl\") # DIFF\n",
    "my_model_loaded = joblib.load(\"my_model.pkl\") # DIFF"
   ]
  },
  {
   "cell_type": "code",
   "execution_count": null,
   "metadata": {},
   "outputs": [],
   "source": []
  }
 ],
 "metadata": {
  "kernelspec": {
   "display_name": "Python 3",
   "language": "python",
   "name": "python3"
  },
  "language_info": {
   "codemirror_mode": {
    "name": "ipython",
    "version": 3
   },
   "file_extension": ".py",
   "mimetype": "text/x-python",
   "name": "python",
   "nbconvert_exporter": "python",
   "pygments_lexer": "ipython3",
   "version": "3.8.5"
  }
 },
 "nbformat": 4,
 "nbformat_minor": 4
}
